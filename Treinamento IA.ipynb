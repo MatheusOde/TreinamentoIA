{
 "cells": [
  {
   "cell_type": "markdown",
   "id": "62e8ea39",
   "metadata": {},
   "source": [
    "# Imports\n",
    "## Panda e Numpy\n"
   ]
  },
  {
   "cell_type": "markdown",
   "id": "f604ffc1",
   "metadata": {},
   "source": [
    "Panda e numpy são bibliotecas auxiliares para cálculo e plot gráfico\n",
    "Nós as usaremos como pd e np em diante\n"
   ]
  },
  {
   "cell_type": "code",
   "execution_count": 1,
   "id": "52282327",
   "metadata": {},
   "outputs": [],
   "source": [
    "import pandas as pd\n",
    "import numpy as np"
   ]
  },
  {
   "cell_type": "markdown",
   "id": "668effdf",
   "metadata": {},
   "source": [
    "## Seaborn e SKLearn\n",
    "\n",
    "Seaborn pode nos ajudar com a visualização do dataset para posterior treinamento com sklearn.\n",
    "SKLearn será o principal módulo do trabalho, fazendo a importação do tipo de aprendizado, treinamento do mesmo, e previsão com base no dataset\n"
   ]
  },
  {
   "cell_type": "code",
   "execution_count": 2,
   "id": "c87fef84",
   "metadata": {},
   "outputs": [],
   "source": [
    "import seaborn as sns\n",
    "import sklearn as sk"
   ]
  },
  {
   "cell_type": "markdown",
   "id": "bebbf721",
   "metadata": {},
   "source": [
    "## Data Set \n",
    "\n",
    "O data set deve ser importado nessa fase.\n"
   ]
  },
  {
   "cell_type": "code",
   "execution_count": 3,
   "id": "3fb01b66",
   "metadata": {},
   "outputs": [],
   "source": []
  }
 ],
 "metadata": {
  "kernelspec": {
   "display_name": "Python 3 (ipykernel)",
   "language": "python",
   "name": "python3"
  },
  "language_info": {
   "codemirror_mode": {
    "name": "ipython",
    "version": 3
   },
   "file_extension": ".py",
   "mimetype": "text/x-python",
   "name": "python",
   "nbconvert_exporter": "python",
   "pygments_lexer": "ipython3",
   "version": "3.11.3"
  }
 },
 "nbformat": 4,
 "nbformat_minor": 5
}
