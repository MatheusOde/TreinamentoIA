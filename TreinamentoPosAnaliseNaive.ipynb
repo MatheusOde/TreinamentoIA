{
 "cells": [
  {
   "attachments": {},
   "cell_type": "markdown",
   "metadata": {},
   "source": [
    "# Refazendo imports e manipulação dos dados"
   ]
  },
  {
   "cell_type": "code",
   "execution_count": 32,
   "metadata": {},
   "outputs": [
    {
     "name": "stderr",
     "output_type": "stream",
     "text": [
      "/tmp/ipykernel_36739/2331555734.py:18: SettingWithCopyWarning: \n",
      "A value is trying to be set on a copy of a slice from a DataFrame.\n",
      "Try using .loc[row_indexer,col_indexer] = value instead\n",
      "\n",
      "See the caveats in the documentation: https://pandas.pydata.org/pandas-docs/stable/user_guide/indexing.html#returning-a-view-versus-a-copy\n",
      "  dataset_base['revenue'] = dataset_base['revenue'] + noise\n",
      "/tmp/ipykernel_36739/2331555734.py:21: SettingWithCopyWarning: \n",
      "A value is trying to be set on a copy of a slice from a DataFrame.\n",
      "Try using .loc[row_indexer,col_indexer] = value instead\n",
      "\n",
      "See the caveats in the documentation: https://pandas.pydata.org/pandas-docs/stable/user_guide/indexing.html#returning-a-view-versus-a-copy\n",
      "  dataset_base['revenue'] = dataset_base_rev_class\n"
     ]
    }
   ],
   "source": [
    "import pandas as pd\n",
    "import numpy as np\n",
    "import sklearn as sk\n",
    "import seaborn as sns\n",
    "from sklearn.model_selection import GridSearchCV\n",
    "from sklearn.datasets import load_iris\n",
    "from sklearn.model_selection import train_test_split\n",
    "from sklearn.naive_bayes import GaussianNB\n",
    "\n",
    "\n",
    "dataset = pd.read_csv('db/movie_dataset.csv', sep=',',  index_col=0, na_values='?')\n",
    "\n",
    "dataset = dataset.loc[:, ~dataset.columns.isin(['original_title', 'overview', 'tagline', 'title', 'homepage', 'crew', 'keywords', 'original_language', 'id'])]\n",
    "dataset = dataset.loc[dataset['status'] == 'Released']\n",
    "\n",
    "dataset_base = dataset.loc[:, dataset.columns.isin(['budget', 'revenue', 'popularity', 'runtime', 'vote_average', 'vote_count'])]\n",
    "noise = np.random.randint(0, 101, size=dataset_base['revenue'].shape[0])\n",
    "dataset_base['revenue'] = dataset_base['revenue'] + noise\n",
    "\n",
    "dataset_base_rev_class = pd.qcut(dataset_base['revenue'], q=4, labels=['very low', 'low', 'medium', 'high'])\n",
    "dataset_base['revenue'] = dataset_base_rev_class\n",
    "\n",
    "dataset_dummies = dataset\n",
    "dataset_dummies = pd.get_dummies(dataset_dummies)\n",
    "dataset_dummies['revenue'] = dataset_dummies['revenue'] +noise\n",
    "dataset_dummies_rev = pd.qcut(dataset_dummies['revenue'], q=4, labels=['very low', 'low', 'medium', 'high'])\n",
    "dataset_dummies['revenue'] = dataset_dummies_rev"
   ]
  },
  {
   "attachments": {},
   "cell_type": "markdown",
   "metadata": {},
   "source": [
    "# Naive Bayes"
   ]
  },
  {
   "cell_type": "code",
   "execution_count": 33,
   "metadata": {},
   "outputs": [
    {
     "name": "stdout",
     "output_type": "stream",
     "text": [
      "Number of mislabeled points out of a total 480 points : 258\n",
      "Accuracy: 46.25%\n"
     ]
    }
   ],
   "source": [
    "dataset_base = dataset_base.loc[:, dataset_base.columns != 'vote_average']\n",
    "dataset_base = dataset_base.loc[:, dataset_base.columns != 'runtime']\n",
    "\n",
    "rev_pred_paramX = dataset_base.loc[:, dataset_base.columns != 'revenue'] \n",
    "rev_pred_paramY = np.array(dataset_base.loc[:, dataset_base.columns == 'revenue']).ravel()\n",
    "\n",
    "X_train, X_test, y_train, y_test = train_test_split(rev_pred_paramX, rev_pred_paramY, test_size=0.10, stratify=rev_pred_paramY, random_state=42)\n",
    "\n",
    "gnb = GaussianNB()\n",
    "pred = gnb.fit(X_train, y_train).predict(X_test)\n",
    "print(\"Number of mislabeled points out of a total %d points : %d\" % (X_test.shape[0], (y_test != pred).sum()))\n",
    "acc = gnb.score(X_test, y_test)\n",
    "print(f'Accuracy: {acc :.2%}')"
   ]
  },
  {
   "attachments": {},
   "cell_type": "markdown",
   "metadata": {},
   "source": []
  },
  {
   "cell_type": "code",
   "execution_count": 34,
   "metadata": {},
   "outputs": [
    {
     "name": "stderr",
     "output_type": "stream",
     "text": [
      "/tmp/ipykernel_36739/938934480.py:4: SettingWithCopyWarning: \n",
      "A value is trying to be set on a copy of a slice from a DataFrame\n",
      "\n",
      "See the caveats in the documentation: https://pandas.pydata.org/pandas-docs/stable/user_guide/indexing.html#returning-a-view-versus-a-copy\n",
      "  rev_pred_paramX.fillna(1, inplace=True)\n"
     ]
    },
    {
     "name": "stdout",
     "output_type": "stream",
     "text": [
      "Number of mislabeled points out of a total 480 points : 258\n",
      "Accuracy: 46.25%\n"
     ]
    }
   ],
   "source": [
    "rev_pred_paramX = dataset_dummies.loc[:, dataset_dummies.columns != 'revenue'] \n",
    "rev_pred_paramY = np.array(dataset_dummies.loc[:, dataset_dummies.columns == 'revenue']).ravel()\n",
    "\n",
    "rev_pred_paramX.fillna(1, inplace=True)\n",
    "rev_pred_paramY = np.nan_to_num(rev_pred_paramY, nan=1)\n",
    "\n",
    "X_train, X_test, y_train, y_test = train_test_split(rev_pred_paramX, rev_pred_paramY, test_size=0.10, stratify=rev_pred_paramY, random_state=42)\n",
    "\n",
    "gnb = GaussianNB()\n",
    "pred = gnb.fit(X_train, y_train).predict(X_test)\n",
    "print(\"Number of mislabeled points out of a total %d points : %d\" % (X_test.shape[0], (y_test != pred).sum()))\n",
    "acc = gnb.score(X_test, y_test)\n",
    "print(f'Accuracy: {acc :.2%}')"
   ]
  }
 ],
 "metadata": {
  "kernelspec": {
   "display_name": "Python 3",
   "language": "python",
   "name": "python3"
  },
  "language_info": {
   "codemirror_mode": {
    "name": "ipython",
    "version": 3
   },
   "file_extension": ".py",
   "mimetype": "text/x-python",
   "name": "python",
   "nbconvert_exporter": "python",
   "pygments_lexer": "ipython3",
   "version": "3.11.3"
  },
  "orig_nbformat": 4
 },
 "nbformat": 4,
 "nbformat_minor": 2
}
