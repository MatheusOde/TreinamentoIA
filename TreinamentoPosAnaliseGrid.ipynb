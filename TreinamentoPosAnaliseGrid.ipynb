{
 "cells": [
  {
   "attachments": {},
   "cell_type": "markdown",
   "metadata": {},
   "source": [
    "# Refazendo imports e manipulação dos dados"
   ]
  },
  {
   "cell_type": "code",
   "execution_count": 1,
   "metadata": {},
   "outputs": [
    {
     "name": "stderr",
     "output_type": "stream",
     "text": [
      "/tmp/ipykernel_30853/2031836977.py:14: SettingWithCopyWarning: \n",
      "A value is trying to be set on a copy of a slice from a DataFrame.\n",
      "Try using .loc[row_indexer,col_indexer] = value instead\n",
      "\n",
      "See the caveats in the documentation: https://pandas.pydata.org/pandas-docs/stable/user_guide/indexing.html#returning-a-view-versus-a-copy\n",
      "  dataset_base['revenue'] = dataset_base['revenue'] + noise\n",
      "/tmp/ipykernel_30853/2031836977.py:17: SettingWithCopyWarning: \n",
      "A value is trying to be set on a copy of a slice from a DataFrame.\n",
      "Try using .loc[row_indexer,col_indexer] = value instead\n",
      "\n",
      "See the caveats in the documentation: https://pandas.pydata.org/pandas-docs/stable/user_guide/indexing.html#returning-a-view-versus-a-copy\n",
      "  dataset_base['revenue'] = dataset_base_rev_class\n"
     ]
    }
   ],
   "source": [
    "import pandas as pd\n",
    "import numpy as np\n",
    "import sklearn as sk\n",
    "import seaborn as sns\n",
    "\n",
    "dataset = pd.read_csv('db/movie_dataset.csv', sep=',',  index_col=0, na_values='?')\n",
    "\n",
    "dataset = dataset.loc[:, ~dataset.columns.isin(['original_title', 'overview', 'tagline', 'title', 'homepage', 'crew', 'keywords', 'original_language', 'id'])]\n",
    "dataset = dataset.loc[dataset['status'] == 'Released']\n",
    "#dataset = dataset.loc[dataset['revenue'] != 0]\n",
    "\n",
    "dataset_base = dataset.loc[:, dataset.columns.isin(['budget', 'revenue', 'popularity', 'runtime', 'vote_average', 'vote_count'])]\n",
    "noise = np.random.randint(0, 101, size=dataset_base['revenue'].shape[0])\n",
    "dataset_base['revenue'] = dataset_base['revenue'] + noise\n",
    "\n",
    "dataset_base_rev_class = pd.qcut(dataset_base['revenue'], q=4, labels=['very low', 'low', 'medium', 'high'])\n",
    "dataset_base['revenue'] = dataset_base_rev_class\n",
    "\n",
    "dataset_dummies = dataset\n",
    "dataset_dummies = pd.get_dummies(dataset_dummies)\n",
    "dataset_dummies['revenue'] = dataset_dummies['revenue'] +noise\n",
    "dataset_dummies_rev = pd.qcut(dataset_dummies['revenue'], q=4, labels=['very low', 'low', 'medium', 'high'])\n",
    "dataset_dummies['revenue'] = dataset_dummies_rev"
   ]
  }
 ],
 "metadata": {
  "kernelspec": {
   "display_name": "Python 3",
   "language": "python",
   "name": "python3"
  },
  "language_info": {
   "codemirror_mode": {
    "name": "ipython",
    "version": 3
   },
   "file_extension": ".py",
   "mimetype": "text/x-python",
   "name": "python",
   "nbconvert_exporter": "python",
   "pygments_lexer": "ipython3",
   "version": "3.11.3"
  },
  "orig_nbformat": 4
 },
 "nbformat": 4,
 "nbformat_minor": 2
}
